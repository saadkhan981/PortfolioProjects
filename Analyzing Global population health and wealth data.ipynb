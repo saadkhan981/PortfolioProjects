{
 "cells": [
  {
   "cell_type": "code",
   "execution_count": 1,
   "id": "f621dd74",
   "metadata": {},
   "outputs": [],
   "source": [
    "import math\n",
    "import collections\n",
    "\n",
    "import numpy as np\n",
    "import pandas as pd\n",
    "import matplotlib.pyplot as pp\n",
    "\n",
    "%matplotlib inline"
   ]
  },
  {
   "cell_type": "code",
   "execution_count": 2,
   "id": "a078bbfd",
   "metadata": {},
   "outputs": [],
   "source": [
    "#Limiting display to 16 rows\n",
    "\n",
    "pd.options.display.max_rows = 16"
   ]
  },
  {
   "cell_type": "code",
   "execution_count": 48,
   "id": "043b130f",
   "metadata": {},
   "outputs": [],
   "source": [
    "### plotting with pandas\n",
    "## dataset source of global population health and wealth statistics : https://wwwgapminder.org\n",
    "## dataset source of baby names: https://www.ssa.gov/oact/babynames/limits.html"
   ]
  },
  {
   "cell_type": "code",
   "execution_count": 3,
   "id": "f411797c",
   "metadata": {},
   "outputs": [],
   "source": [
    "#loading file\n",
    "\n",
    "gapminder = pd.read_csv('/Users/saadkhan/Desktop/self pace/python.jupyter/Ex_Files_Python_Data_Analysis/Exercise Files/chapter6/gapminder.csv')"
   ]
  },
  {
   "cell_type": "code",
   "execution_count": 4,
   "id": "4fd646f3",
   "metadata": {},
   "outputs": [
    {
     "data": {
      "text/html": [
       "<div>\n",
       "<style scoped>\n",
       "    .dataframe tbody tr th:only-of-type {\n",
       "        vertical-align: middle;\n",
       "    }\n",
       "\n",
       "    .dataframe tbody tr th {\n",
       "        vertical-align: top;\n",
       "    }\n",
       "\n",
       "    .dataframe thead th {\n",
       "        text-align: right;\n",
       "    }\n",
       "</style>\n",
       "<table border=\"1\" class=\"dataframe\">\n",
       "  <thead>\n",
       "    <tr style=\"text-align: right;\">\n",
       "      <th></th>\n",
       "      <th>country</th>\n",
       "      <th>year</th>\n",
       "      <th>region</th>\n",
       "      <th>population</th>\n",
       "      <th>life_expectancy</th>\n",
       "      <th>age5_surviving</th>\n",
       "      <th>babies_per_woman</th>\n",
       "      <th>gdp_per_capita</th>\n",
       "    </tr>\n",
       "  </thead>\n",
       "  <tbody>\n",
       "    <tr>\n",
       "      <th>0</th>\n",
       "      <td>Afghanistan</td>\n",
       "      <td>1800</td>\n",
       "      <td>Asia</td>\n",
       "      <td>3280000.0</td>\n",
       "      <td>28.21</td>\n",
       "      <td>53.142</td>\n",
       "      <td>7.0</td>\n",
       "      <td>603.0</td>\n",
       "    </tr>\n",
       "    <tr>\n",
       "      <th>1</th>\n",
       "      <td>Afghanistan</td>\n",
       "      <td>1810</td>\n",
       "      <td>Asia</td>\n",
       "      <td>3280000.0</td>\n",
       "      <td>28.11</td>\n",
       "      <td>53.002</td>\n",
       "      <td>7.0</td>\n",
       "      <td>604.0</td>\n",
       "    </tr>\n",
       "    <tr>\n",
       "      <th>2</th>\n",
       "      <td>Afghanistan</td>\n",
       "      <td>1820</td>\n",
       "      <td>Asia</td>\n",
       "      <td>3323519.0</td>\n",
       "      <td>28.01</td>\n",
       "      <td>52.862</td>\n",
       "      <td>7.0</td>\n",
       "      <td>604.0</td>\n",
       "    </tr>\n",
       "    <tr>\n",
       "      <th>3</th>\n",
       "      <td>Afghanistan</td>\n",
       "      <td>1830</td>\n",
       "      <td>Asia</td>\n",
       "      <td>3448982.0</td>\n",
       "      <td>27.90</td>\n",
       "      <td>52.719</td>\n",
       "      <td>7.0</td>\n",
       "      <td>625.0</td>\n",
       "    </tr>\n",
       "    <tr>\n",
       "      <th>4</th>\n",
       "      <td>Afghanistan</td>\n",
       "      <td>1840</td>\n",
       "      <td>Asia</td>\n",
       "      <td>3625022.0</td>\n",
       "      <td>27.80</td>\n",
       "      <td>52.576</td>\n",
       "      <td>7.0</td>\n",
       "      <td>647.0</td>\n",
       "    </tr>\n",
       "  </tbody>\n",
       "</table>\n",
       "</div>"
      ],
      "text/plain": [
       "       country  year region  population  life_expectancy  age5_surviving  \\\n",
       "0  Afghanistan  1800   Asia   3280000.0            28.21          53.142   \n",
       "1  Afghanistan  1810   Asia   3280000.0            28.11          53.002   \n",
       "2  Afghanistan  1820   Asia   3323519.0            28.01          52.862   \n",
       "3  Afghanistan  1830   Asia   3448982.0            27.90          52.719   \n",
       "4  Afghanistan  1840   Asia   3625022.0            27.80          52.576   \n",
       "\n",
       "   babies_per_woman  gdp_per_capita  \n",
       "0               7.0           603.0  \n",
       "1               7.0           604.0  \n",
       "2               7.0           604.0  \n",
       "3               7.0           625.0  \n",
       "4               7.0           647.0  "
      ]
     },
     "execution_count": 4,
     "metadata": {},
     "output_type": "execute_result"
    }
   ],
   "source": [
    "# Exploratory Analysis\n",
    "# checking columns and data\n",
    "\n",
    "gapminder.head()"
   ]
  },
  {
   "cell_type": "code",
   "execution_count": 5,
   "id": "2a2d89a0",
   "metadata": {},
   "outputs": [],
   "source": [
    "# creating a column using log10 for per day gdp per capita\n",
    "\n",
    "gapminder['log_gdp_per_day'] = np.log10(gapminder['gdp_per_capita']/365.25)"
   ]
  },
  {
   "cell_type": "code",
   "execution_count": 66,
   "id": "32974576",
   "metadata": {},
   "outputs": [
    {
     "data": {
      "text/html": [
       "<div>\n",
       "<style scoped>\n",
       "    .dataframe tbody tr th:only-of-type {\n",
       "        vertical-align: middle;\n",
       "    }\n",
       "\n",
       "    .dataframe tbody tr th {\n",
       "        vertical-align: top;\n",
       "    }\n",
       "\n",
       "    .dataframe thead th {\n",
       "        text-align: right;\n",
       "    }\n",
       "</style>\n",
       "<table border=\"1\" class=\"dataframe\">\n",
       "  <thead>\n",
       "    <tr style=\"text-align: right;\">\n",
       "      <th></th>\n",
       "      <th>country</th>\n",
       "      <th>year</th>\n",
       "      <th>region</th>\n",
       "      <th>population</th>\n",
       "      <th>life_expectancy</th>\n",
       "      <th>age5_surviving</th>\n",
       "      <th>babies_per_woman</th>\n",
       "      <th>gdp_per_capita</th>\n",
       "      <th>log_pdg_per_day</th>\n",
       "      <th>log_gdp_per_day</th>\n",
       "    </tr>\n",
       "  </thead>\n",
       "  <tbody>\n",
       "    <tr>\n",
       "      <th>0</th>\n",
       "      <td>Afghanistan</td>\n",
       "      <td>1800</td>\n",
       "      <td>Asia</td>\n",
       "      <td>3280000.0</td>\n",
       "      <td>28.21</td>\n",
       "      <td>53.142</td>\n",
       "      <td>7.0</td>\n",
       "      <td>603.0</td>\n",
       "      <td>0.217727</td>\n",
       "      <td>0.217727</td>\n",
       "    </tr>\n",
       "    <tr>\n",
       "      <th>1</th>\n",
       "      <td>Afghanistan</td>\n",
       "      <td>1810</td>\n",
       "      <td>Asia</td>\n",
       "      <td>3280000.0</td>\n",
       "      <td>28.11</td>\n",
       "      <td>53.002</td>\n",
       "      <td>7.0</td>\n",
       "      <td>604.0</td>\n",
       "      <td>0.218447</td>\n",
       "      <td>0.218447</td>\n",
       "    </tr>\n",
       "    <tr>\n",
       "      <th>2</th>\n",
       "      <td>Afghanistan</td>\n",
       "      <td>1820</td>\n",
       "      <td>Asia</td>\n",
       "      <td>3323519.0</td>\n",
       "      <td>28.01</td>\n",
       "      <td>52.862</td>\n",
       "      <td>7.0</td>\n",
       "      <td>604.0</td>\n",
       "      <td>0.218447</td>\n",
       "      <td>0.218447</td>\n",
       "    </tr>\n",
       "    <tr>\n",
       "      <th>3</th>\n",
       "      <td>Afghanistan</td>\n",
       "      <td>1830</td>\n",
       "      <td>Asia</td>\n",
       "      <td>3448982.0</td>\n",
       "      <td>27.90</td>\n",
       "      <td>52.719</td>\n",
       "      <td>7.0</td>\n",
       "      <td>625.0</td>\n",
       "      <td>0.233290</td>\n",
       "      <td>0.233290</td>\n",
       "    </tr>\n",
       "    <tr>\n",
       "      <th>4</th>\n",
       "      <td>Afghanistan</td>\n",
       "      <td>1840</td>\n",
       "      <td>Asia</td>\n",
       "      <td>3625022.0</td>\n",
       "      <td>27.80</td>\n",
       "      <td>52.576</td>\n",
       "      <td>7.0</td>\n",
       "      <td>647.0</td>\n",
       "      <td>0.248314</td>\n",
       "      <td>0.248314</td>\n",
       "    </tr>\n",
       "  </tbody>\n",
       "</table>\n",
       "</div>"
      ],
      "text/plain": [
       "       country  year region  population  life_expectancy  age5_surviving  \\\n",
       "0  Afghanistan  1800   Asia   3280000.0            28.21          53.142   \n",
       "1  Afghanistan  1810   Asia   3280000.0            28.11          53.002   \n",
       "2  Afghanistan  1820   Asia   3323519.0            28.01          52.862   \n",
       "3  Afghanistan  1830   Asia   3448982.0            27.90          52.719   \n",
       "4  Afghanistan  1840   Asia   3625022.0            27.80          52.576   \n",
       "\n",
       "   babies_per_woman  gdp_per_capita  log_pdg_per_day  log_gdp_per_day  \n",
       "0               7.0           603.0         0.217727         0.217727  \n",
       "1               7.0           604.0         0.218447         0.218447  \n",
       "2               7.0           604.0         0.218447         0.218447  \n",
       "3               7.0           625.0         0.233290         0.233290  \n",
       "4               7.0           647.0         0.248314         0.248314  "
      ]
     },
     "execution_count": 66,
     "metadata": {},
     "output_type": "execute_result"
    }
   ],
   "source": [
    "# again checking columns and data\n",
    "\n",
    "gapminder.head()"
   ]
  },
  {
   "cell_type": "code",
   "execution_count": 6,
   "id": "0ac61b06",
   "metadata": {},
   "outputs": [],
   "source": [
    "# indexing column 'year' and then sorting it with the same index\n",
    "\n",
    "gapminder_by_year = gapminder.set_index('year').sort_index()"
   ]
  },
  {
   "cell_type": "code",
   "execution_count": 68,
   "id": "800b522d",
   "metadata": {},
   "outputs": [
    {
     "data": {
      "text/html": [
       "<div>\n",
       "<style scoped>\n",
       "    .dataframe tbody tr th:only-of-type {\n",
       "        vertical-align: middle;\n",
       "    }\n",
       "\n",
       "    .dataframe tbody tr th {\n",
       "        vertical-align: top;\n",
       "    }\n",
       "\n",
       "    .dataframe thead th {\n",
       "        text-align: right;\n",
       "    }\n",
       "</style>\n",
       "<table border=\"1\" class=\"dataframe\">\n",
       "  <thead>\n",
       "    <tr style=\"text-align: right;\">\n",
       "      <th></th>\n",
       "      <th>country</th>\n",
       "      <th>region</th>\n",
       "      <th>population</th>\n",
       "      <th>life_expectancy</th>\n",
       "      <th>age5_surviving</th>\n",
       "      <th>babies_per_woman</th>\n",
       "      <th>gdp_per_capita</th>\n",
       "      <th>log_pdg_per_day</th>\n",
       "      <th>log_gdp_per_day</th>\n",
       "    </tr>\n",
       "    <tr>\n",
       "      <th>year</th>\n",
       "      <th></th>\n",
       "      <th></th>\n",
       "      <th></th>\n",
       "      <th></th>\n",
       "      <th></th>\n",
       "      <th></th>\n",
       "      <th></th>\n",
       "      <th></th>\n",
       "      <th></th>\n",
       "    </tr>\n",
       "  </thead>\n",
       "  <tbody>\n",
       "    <tr>\n",
       "      <th>1800</th>\n",
       "      <td>Afghanistan</td>\n",
       "      <td>Asia</td>\n",
       "      <td>3280000.0</td>\n",
       "      <td>28.21</td>\n",
       "      <td>53.142</td>\n",
       "      <td>7.00</td>\n",
       "      <td>603.0</td>\n",
       "      <td>0.217727</td>\n",
       "      <td>0.217727</td>\n",
       "    </tr>\n",
       "    <tr>\n",
       "      <th>1800</th>\n",
       "      <td>Guyana</td>\n",
       "      <td>America</td>\n",
       "      <td>166034.0</td>\n",
       "      <td>31.12</td>\n",
       "      <td>57.084</td>\n",
       "      <td>5.01</td>\n",
       "      <td>1214.0</td>\n",
       "      <td>0.521628</td>\n",
       "      <td>0.521628</td>\n",
       "    </tr>\n",
       "    <tr>\n",
       "      <th>1800</th>\n",
       "      <td>Guinea-Bissau</td>\n",
       "      <td>Africa</td>\n",
       "      <td>218167.0</td>\n",
       "      <td>32.00</td>\n",
       "      <td>58.256</td>\n",
       "      <td>7.25</td>\n",
       "      <td>777.0</td>\n",
       "      <td>0.327831</td>\n",
       "      <td>0.327831</td>\n",
       "    </tr>\n",
       "    <tr>\n",
       "      <th>1800</th>\n",
       "      <td>Guinea</td>\n",
       "      <td>Africa</td>\n",
       "      <td>983959.0</td>\n",
       "      <td>29.50</td>\n",
       "      <td>54.940</td>\n",
       "      <td>6.11</td>\n",
       "      <td>450.0</td>\n",
       "      <td>0.090622</td>\n",
       "      <td>0.090622</td>\n",
       "    </tr>\n",
       "    <tr>\n",
       "      <th>1800</th>\n",
       "      <td>Guatemala</td>\n",
       "      <td>America</td>\n",
       "      <td>458965.0</td>\n",
       "      <td>25.80</td>\n",
       "      <td>49.664</td>\n",
       "      <td>6.45</td>\n",
       "      <td>857.0</td>\n",
       "      <td>0.370391</td>\n",
       "      <td>0.370391</td>\n",
       "    </tr>\n",
       "  </tbody>\n",
       "</table>\n",
       "</div>"
      ],
      "text/plain": [
       "            country   region  population  life_expectancy  age5_surviving  \\\n",
       "year                                                                        \n",
       "1800    Afghanistan     Asia   3280000.0            28.21          53.142   \n",
       "1800         Guyana  America    166034.0            31.12          57.084   \n",
       "1800  Guinea-Bissau   Africa    218167.0            32.00          58.256   \n",
       "1800         Guinea   Africa    983959.0            29.50          54.940   \n",
       "1800      Guatemala  America    458965.0            25.80          49.664   \n",
       "\n",
       "      babies_per_woman  gdp_per_capita  log_pdg_per_day  log_gdp_per_day  \n",
       "year                                                                      \n",
       "1800              7.00           603.0         0.217727         0.217727  \n",
       "1800              5.01          1214.0         0.521628         0.521628  \n",
       "1800              7.25           777.0         0.327831         0.327831  \n",
       "1800              6.11           450.0         0.090622         0.090622  \n",
       "1800              6.45           857.0         0.370391         0.370391  "
      ]
     },
     "execution_count": 68,
     "metadata": {},
     "output_type": "execute_result"
    }
   ],
   "source": [
    "# again checking columns and data\n",
    "\n",
    "gapminder_by_year.head()"
   ]
  },
  {
   "cell_type": "code",
   "execution_count": 7,
   "id": "2e0f059f",
   "metadata": {},
   "outputs": [],
   "source": [
    "# indexing column 'country' and then sorting it with the same index\n",
    "\n",
    "gapminder_by_country = gapminder.set_index('country').sort_index()"
   ]
  },
  {
   "cell_type": "code",
   "execution_count": 70,
   "id": "fd7dbf22",
   "metadata": {},
   "outputs": [
    {
     "data": {
      "text/html": [
       "<div>\n",
       "<style scoped>\n",
       "    .dataframe tbody tr th:only-of-type {\n",
       "        vertical-align: middle;\n",
       "    }\n",
       "\n",
       "    .dataframe tbody tr th {\n",
       "        vertical-align: top;\n",
       "    }\n",
       "\n",
       "    .dataframe thead th {\n",
       "        text-align: right;\n",
       "    }\n",
       "</style>\n",
       "<table border=\"1\" class=\"dataframe\">\n",
       "  <thead>\n",
       "    <tr style=\"text-align: right;\">\n",
       "      <th></th>\n",
       "      <th>year</th>\n",
       "      <th>region</th>\n",
       "      <th>population</th>\n",
       "      <th>life_expectancy</th>\n",
       "      <th>age5_surviving</th>\n",
       "      <th>babies_per_woman</th>\n",
       "      <th>gdp_per_capita</th>\n",
       "      <th>log_pdg_per_day</th>\n",
       "      <th>log_gdp_per_day</th>\n",
       "    </tr>\n",
       "    <tr>\n",
       "      <th>country</th>\n",
       "      <th></th>\n",
       "      <th></th>\n",
       "      <th></th>\n",
       "      <th></th>\n",
       "      <th></th>\n",
       "      <th></th>\n",
       "      <th></th>\n",
       "      <th></th>\n",
       "      <th></th>\n",
       "    </tr>\n",
       "  </thead>\n",
       "  <tbody>\n",
       "    <tr>\n",
       "      <th>Afghanistan</th>\n",
       "      <td>1800</td>\n",
       "      <td>Asia</td>\n",
       "      <td>3280000.0</td>\n",
       "      <td>28.21</td>\n",
       "      <td>53.142</td>\n",
       "      <td>7.00</td>\n",
       "      <td>603.0</td>\n",
       "      <td>0.217727</td>\n",
       "      <td>0.217727</td>\n",
       "    </tr>\n",
       "    <tr>\n",
       "      <th>Afghanistan</th>\n",
       "      <td>1993</td>\n",
       "      <td>Asia</td>\n",
       "      <td>14824371.0</td>\n",
       "      <td>49.50</td>\n",
       "      <td>83.800</td>\n",
       "      <td>7.76</td>\n",
       "      <td>810.0</td>\n",
       "      <td>0.345895</td>\n",
       "      <td>0.345895</td>\n",
       "    </tr>\n",
       "    <tr>\n",
       "      <th>Afghanistan</th>\n",
       "      <td>1992</td>\n",
       "      <td>Asia</td>\n",
       "      <td>13745630.0</td>\n",
       "      <td>49.40</td>\n",
       "      <td>83.220</td>\n",
       "      <td>7.73</td>\n",
       "      <td>941.0</td>\n",
       "      <td>0.410999</td>\n",
       "      <td>0.410999</td>\n",
       "    </tr>\n",
       "    <tr>\n",
       "      <th>Afghanistan</th>\n",
       "      <td>1991</td>\n",
       "      <td>Asia</td>\n",
       "      <td>12789374.0</td>\n",
       "      <td>49.30</td>\n",
       "      <td>82.580</td>\n",
       "      <td>7.70</td>\n",
       "      <td>1022.0</td>\n",
       "      <td>0.446861</td>\n",
       "      <td>0.446861</td>\n",
       "    </tr>\n",
       "    <tr>\n",
       "      <th>Afghanistan</th>\n",
       "      <td>1990</td>\n",
       "      <td>Asia</td>\n",
       "      <td>12067570.0</td>\n",
       "      <td>49.50</td>\n",
       "      <td>81.900</td>\n",
       "      <td>7.69</td>\n",
       "      <td>1028.0</td>\n",
       "      <td>0.449403</td>\n",
       "      <td>0.449403</td>\n",
       "    </tr>\n",
       "  </tbody>\n",
       "</table>\n",
       "</div>"
      ],
      "text/plain": [
       "             year region  population  life_expectancy  age5_surviving  \\\n",
       "country                                                                 \n",
       "Afghanistan  1800   Asia   3280000.0            28.21          53.142   \n",
       "Afghanistan  1993   Asia  14824371.0            49.50          83.800   \n",
       "Afghanistan  1992   Asia  13745630.0            49.40          83.220   \n",
       "Afghanistan  1991   Asia  12789374.0            49.30          82.580   \n",
       "Afghanistan  1990   Asia  12067570.0            49.50          81.900   \n",
       "\n",
       "             babies_per_woman  gdp_per_capita  log_pdg_per_day  \\\n",
       "country                                                          \n",
       "Afghanistan              7.00           603.0         0.217727   \n",
       "Afghanistan              7.76           810.0         0.345895   \n",
       "Afghanistan              7.73           941.0         0.410999   \n",
       "Afghanistan              7.70          1022.0         0.446861   \n",
       "Afghanistan              7.69          1028.0         0.449403   \n",
       "\n",
       "             log_gdp_per_day  \n",
       "country                       \n",
       "Afghanistan         0.217727  \n",
       "Afghanistan         0.345895  \n",
       "Afghanistan         0.410999  \n",
       "Afghanistan         0.446861  \n",
       "Afghanistan         0.449403  "
      ]
     },
     "execution_count": 70,
     "metadata": {},
     "output_type": "execute_result"
    }
   ],
   "source": [
    "# again checking columns and data\n",
    "\n",
    "gapminder_by_country.head()"
   ]
  },
  {
   "cell_type": "code",
   "execution_count": 71,
   "id": "5dcb4846",
   "metadata": {},
   "outputs": [
    {
     "data": {
      "text/plain": [
       "<AxesSubplot:xlabel='log_gdp_per_day', ylabel='life_expectancy'>"
      ]
     },
     "execution_count": 71,
     "metadata": {},
     "output_type": "execute_result"
    },
    {
     "data": {
      "image/png": "[encoded data removed]",
      "text/plain": [
       "<Figure size 432x288 with 1 Axes>"
      ]
     },
     "metadata": {
      "needs_background": "light"
     },
     "output_type": "display_data"
    }
   ],
   "source": [
    "# creating scatter plot of gdp per day vs life expectancy of year 1960\n",
    "\n",
    "gapminder_by_year.loc[1960].plot.scatter('log_gdp_per_day','life_expectancy')"
   ]
  },
  {
   "cell_type": "code",
   "execution_count": 15,
   "id": "6446bf53",
   "metadata": {},
   "outputs": [
    {
     "data": {
      "text/plain": [
       "<AxesSubplot:xlabel='year', ylabel='life_expectancy'>"
      ]
     },
     "execution_count": 15,
     "metadata": {},
     "output_type": "execute_result"
    },
    {
     "data": {
      "image/png": "[encoded data removed]",
      "text/plain": [
       "<Figure size 432x288 with 1 Axes>"
      ]
     },
     "metadata": {
      "needs_background": "light"
     },
     "output_type": "display_data"
    }
   ],
   "source": [
    "# creating scatter plot of life expectancy over the years of country Pakistan\n",
    "\n",
    "gapminder_by_country.loc['Pakistan'].plot.scatter('year','life_expectancy')"
   ]
  },
  {
   "cell_type": "code",
   "execution_count": 73,
   "id": "efd18e95",
   "metadata": {},
   "outputs": [
    {
     "data": {
      "text/plain": [
       "<AxesSubplot:xlabel='log_gdp_per_day', ylabel='life_expectancy'>"
      ]
     },
     "execution_count": 73,
     "metadata": {},
     "output_type": "execute_result"
    },
    {
     "data": {
      "image/png": "[encoded data removed]",
      "text/plain": [
       "<Figure size 432x288 with 1 Axes>"
      ]
     },
     "metadata": {
      "needs_background": "light"
     },
     "output_type": "display_data"
    }
   ],
   "source": [
    "# creating scatter plot of gdp per day vs life expectancy for years 1960, 2000 and 2015 on same axis\n",
    "\n",
    "axes = gapminder_by_year.loc[1960].plot.scatter('log_gdp_per_day','life_expectancy',label=1960)\n",
    "gapminder_by_year.loc[2015].plot.scatter('log_gdp_per_day','life_expectancy',label=2015, color='C1',ax=axes)\n",
    "gapminder_by_year.loc[2000].plot.scatter('log_gdp_per_day','life_expectancy',label=2000,color='grey',ax=axes)"
   ]
  },
  {
   "cell_type": "code",
   "execution_count": 74,
   "id": "bae0dd50",
   "metadata": {},
   "outputs": [
    {
     "data": {
      "text/plain": [
       "<AxesSubplot:xlabel='log_gdp_per_day', ylabel='age5_surviving'>"
      ]
     },
     "execution_count": 74,
     "metadata": {},
     "output_type": "execute_result"
    },
    {
     "data": {
      "image/png": "[encoded data removed]",
      "text/plain": [
       "<Figure size 432x288 with 1 Axes>"
      ]
     },
     "metadata": {
      "needs_background": "light"
     },
     "output_type": "display_data"
    }
   ],
   "source": [
    "# creating scatter plot of gdp per day vs age5 surviving for years 1960, 2000 and 2015 on same axis\n",
    "\n",
    "axes = gapminder_by_year.loc[1960].plot.scatter('log_gdp_per_day','age5_surviving',label=1960)\n",
    "gapminder_by_year.loc[2015].plot.scatter('log_gdp_per_day','age5_surviving',label=2015, color='C1',ax=axes)\n",
    "gapminder_by_year.loc[2000].plot.scatter('log_gdp_per_day','age5_surviving',label=2000,color='grey',ax=axes)"
   ]
  },
  {
   "cell_type": "code",
   "execution_count": 78,
   "id": "c376059d",
   "metadata": {},
   "outputs": [
    {
     "data": {
      "text/plain": [
       "<AxesSubplot:xlabel='year'>"
      ]
     },
     "execution_count": 78,
     "metadata": {},
     "output_type": "execute_result"
    },
    {
     "data": {
      "image/png": "[encoded data removed]",
      "text/plain": [
       "<Figure size 432x288 with 1 Axes>"
      ]
     },
     "metadata": {
      "needs_background": "light"
     },
     "output_type": "display_data"
    }
   ],
   "source": [
    "# creating scatter plot of life expectancy over the years of countries Pakistan and India on same axis\n",
    "\n",
    "yay =  gapminder_by_country.loc['Pakistan'].sort_values('year').plot('year','life_expectancy',label='Pakistan')\n",
    "gapminder_by_country.loc['India'].sort_values('year').plot('year','life_expectancy',label='India',color='grey',ax=yay)"
   ]
  },
  {
   "cell_type": "code",
   "execution_count": 79,
   "id": "0a02f4bd",
   "metadata": {},
   "outputs": [
    {
     "data": {
      "text/plain": [
       "year\n",
       "1800    6.105028\n",
       "1810    6.094254\n",
       "1820    6.094396\n",
       "1830    6.085879\n",
       "1840    6.072802\n",
       "          ...   \n",
       "2011    2.925110\n",
       "2012    2.892912\n",
       "2013    2.863407\n",
       "2014    2.830934\n",
       "2015    2.799231\n",
       "Name: babies_per_woman, Length: 81, dtype: float64"
      ]
     },
     "execution_count": 79,
     "metadata": {},
     "output_type": "execute_result"
    }
   ],
   "source": [
    "# using groupby and mean to know the avaerage number of babies per woman born - year wise\n",
    "\n",
    "gapminder.groupby('year').babies_per_woman.mean()"
   ]
  },
  {
   "cell_type": "code",
   "execution_count": 81,
   "id": "eba96076",
   "metadata": {},
   "outputs": [
    {
     "data": {
      "text/plain": [
       "Text(0, 0.5, 'age 5 survival [%]')"
      ]
     },
     "execution_count": 81,
     "metadata": {},
     "output_type": "execute_result"
    },
    {
     "data": {
      "image/png": "[encoded data removed]",
      "text/plain": [
       "<Figure size 432x288 with 2 Axes>"
      ]
     },
     "metadata": {
      "needs_background": "light"
     },
     "output_type": "display_data"
    }
   ],
   "source": [
    "# creating line graph of babies per woman born and age5 survival over the years\n",
    "\n",
    "gapminder.groupby('year').babies_per_woman.mean().plot()\n",
    "pp.ylabel('babies per woman')\n",
    "\n",
    "gapminder.groupby('year').age5_surviving.mean().plot(secondary_y=True)\n",
    "pp.ylabel('age 5 survival [%]')"
   ]
  },
  {
   "cell_type": "code",
   "execution_count": 82,
   "id": "b4ed2a84",
   "metadata": {},
   "outputs": [
    {
     "data": {
      "text/html": [
       "<div>\n",
       "<style scoped>\n",
       "    .dataframe tbody tr th:only-of-type {\n",
       "        vertical-align: middle;\n",
       "    }\n",
       "\n",
       "    .dataframe tbody tr th {\n",
       "        vertical-align: top;\n",
       "    }\n",
       "\n",
       "    .dataframe thead th {\n",
       "        text-align: right;\n",
       "    }\n",
       "</style>\n",
       "<table border=\"1\" class=\"dataframe\">\n",
       "  <thead>\n",
       "    <tr style=\"text-align: right;\">\n",
       "      <th>region</th>\n",
       "      <th>Africa</th>\n",
       "      <th>America</th>\n",
       "      <th>Asia</th>\n",
       "      <th>Europe</th>\n",
       "    </tr>\n",
       "    <tr>\n",
       "      <th>year</th>\n",
       "      <th></th>\n",
       "      <th></th>\n",
       "      <th></th>\n",
       "      <th></th>\n",
       "    </tr>\n",
       "  </thead>\n",
       "  <tbody>\n",
       "    <tr>\n",
       "      <th>1800</th>\n",
       "      <td>6.393208</td>\n",
       "      <td>6.055758</td>\n",
       "      <td>6.291923</td>\n",
       "      <td>5.561628</td>\n",
       "    </tr>\n",
       "    <tr>\n",
       "      <th>1810</th>\n",
       "      <td>6.394151</td>\n",
       "      <td>6.040000</td>\n",
       "      <td>6.281154</td>\n",
       "      <td>5.540233</td>\n",
       "    </tr>\n",
       "    <tr>\n",
       "      <th>1820</th>\n",
       "      <td>6.394340</td>\n",
       "      <td>6.031515</td>\n",
       "      <td>6.292692</td>\n",
       "      <td>5.545909</td>\n",
       "    </tr>\n",
       "    <tr>\n",
       "      <th>1830</th>\n",
       "      <td>6.395472</td>\n",
       "      <td>6.046364</td>\n",
       "      <td>6.285577</td>\n",
       "      <td>5.506591</td>\n",
       "    </tr>\n",
       "    <tr>\n",
       "      <th>1840</th>\n",
       "      <td>6.396226</td>\n",
       "      <td>6.046970</td>\n",
       "      <td>6.255577</td>\n",
       "      <td>5.486591</td>\n",
       "    </tr>\n",
       "    <tr>\n",
       "      <th>...</th>\n",
       "      <td>...</td>\n",
       "      <td>...</td>\n",
       "      <td>...</td>\n",
       "      <td>...</td>\n",
       "    </tr>\n",
       "    <tr>\n",
       "      <th>2011</th>\n",
       "      <td>4.569811</td>\n",
       "      <td>2.340000</td>\n",
       "      <td>2.736923</td>\n",
       "      <td>1.605227</td>\n",
       "    </tr>\n",
       "    <tr>\n",
       "      <th>2012</th>\n",
       "      <td>4.508868</td>\n",
       "      <td>2.315152</td>\n",
       "      <td>2.700769</td>\n",
       "      <td>1.606818</td>\n",
       "    </tr>\n",
       "    <tr>\n",
       "      <th>2013</th>\n",
       "      <td>4.447547</td>\n",
       "      <td>2.294242</td>\n",
       "      <td>2.664038</td>\n",
       "      <td>1.617727</td>\n",
       "    </tr>\n",
       "    <tr>\n",
       "      <th>2014</th>\n",
       "      <td>4.383962</td>\n",
       "      <td>2.269697</td>\n",
       "      <td>2.627692</td>\n",
       "      <td>1.621364</td>\n",
       "    </tr>\n",
       "    <tr>\n",
       "      <th>2015</th>\n",
       "      <td>4.319245</td>\n",
       "      <td>2.247576</td>\n",
       "      <td>2.592115</td>\n",
       "      <td>1.626818</td>\n",
       "    </tr>\n",
       "  </tbody>\n",
       "</table>\n",
       "<p>81 rows × 4 columns</p>\n",
       "</div>"
      ],
      "text/plain": [
       "region    Africa   America      Asia    Europe\n",
       "year                                          \n",
       "1800    6.393208  6.055758  6.291923  5.561628\n",
       "1810    6.394151  6.040000  6.281154  5.540233\n",
       "1820    6.394340  6.031515  6.292692  5.545909\n",
       "1830    6.395472  6.046364  6.285577  5.506591\n",
       "1840    6.396226  6.046970  6.255577  5.486591\n",
       "...          ...       ...       ...       ...\n",
       "2011    4.569811  2.340000  2.736923  1.605227\n",
       "2012    4.508868  2.315152  2.700769  1.606818\n",
       "2013    4.447547  2.294242  2.664038  1.617727\n",
       "2014    4.383962  2.269697  2.627692  1.621364\n",
       "2015    4.319245  2.247576  2.592115  1.626818\n",
       "\n",
       "[81 rows x 4 columns]"
      ]
     },
     "execution_count": 82,
     "metadata": {},
     "output_type": "execute_result"
    }
   ],
   "source": [
    "# checking babies born per woman, year and region wise\n",
    "\n",
    "gapminder.pivot_table('babies_per_woman','year','region')"
   ]
  },
  {
   "cell_type": "code",
   "execution_count": 84,
   "id": "878bd39b",
   "metadata": {},
   "outputs": [
    {
     "data": {
      "text/plain": [
       "Text(0, 0.5, 'babies per woman')"
      ]
     },
     "execution_count": 84,
     "metadata": {},
     "output_type": "execute_result"
    },
    {
     "data": {
      "image/png": "[encoded data removed]",
      "text/plain": [
       "<Figure size 432x288 with 1 Axes>"
      ]
     },
     "metadata": {
      "needs_background": "light"
     },
     "output_type": "display_data"
    }
   ],
   "source": [
    "# creating line graph of babies born per woman, year and region wise\n",
    "\n",
    "gapminder.pivot_table('babies_per_woman','year','region').plot()\n",
    "pp.ylabel('babies per woman')"
   ]
  },
  {
   "cell_type": "code",
   "execution_count": 86,
   "id": "f3464d4d",
   "metadata": {},
   "outputs": [
    {
     "data": {
      "text/plain": [
       "<AxesSubplot:xlabel='year'>"
      ]
     },
     "execution_count": 86,
     "metadata": {},
     "output_type": "execute_result"
    },
    {
     "data": {
      "image/png": "[encoded data removed]",
      "text/plain": [
       "<Figure size 432x288 with 1 Axes>"
      ]
     },
     "metadata": {
      "needs_background": "light"
     },
     "output_type": "display_data"
    }
   ],
   "source": [
    "# creating line graph of age5 surviving, year and region wise\n",
    "\n",
    "gapminder.pivot_table('age5_surviving','year','region').plot()"
   ]
  },
  {
   "cell_type": "code",
   "execution_count": null,
   "id": "9ef45f65",
   "metadata": {},
   "outputs": [],
   "source": [
    "# Findings from the data\n",
    "\n",
    "# 1. The age5 survival rate considerably increased from as low as <60% in 19th century to as high as >95 in 21st century.\n",
    "# 2. The average babies per woman have decreased from 6 babies per woman in 19th century to <3  babies per woman in 21st century.\n",
    "# 3. The average babies per woman have reduced in all regions.\n",
    "# 4. However Africa is on top with around 4-5 babies per woman in 21st century.\n",
    "# 5. Also, Africa have lowest age5 survival rate of around 92% among other regions which have comparatively high survival rate.\n"
   ]
  }
 ],
 "metadata": {
  "kernelspec": {
   "display_name": "Python 3 (ipykernel)",
   "language": "python",
   "name": "python3"
  },
  "language_info": {
   "codemirror_mode": {
    "name": "ipython",
    "version": 3
   },
   "file_extension": ".py",
   "mimetype": "text/x-python",
   "name": "python",
   "nbconvert_exporter": "python",
   "pygments_lexer": "ipython3",
   "version": "3.9.12"
  }
 },
 "nbformat": 4,
 "nbformat_minor": 5
}
